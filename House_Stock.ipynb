{
  "nbformat": 4,
  "nbformat_minor": 0,
  "metadata": {
    "colab": {
      "provenance": [],
      "authorship_tag": "ABX9TyOLAIuAfhHoSsIqZH8GRxGB",
      "include_colab_link": true
    },
    "kernelspec": {
      "name": "python3",
      "display_name": "Python 3"
    },
    "language_info": {
      "name": "python"
    }
  },
  "cells": [
    {
      "cell_type": "markdown",
      "metadata": {
        "id": "view-in-github",
        "colab_type": "text"
      },
      "source": [
        "<a href=\"https://colab.research.google.com/github/Itish20/CodeHelp-DSA-Busted-Series/blob/main/House_Stock.ipynb\" target=\"_parent\"><img src=\"https://colab.research.google.com/assets/colab-badge.svg\" alt=\"Open In Colab\"/></a>"
      ]
    },
    {
      "cell_type": "markdown",
      "source": [
        "# House price prediction regression project\n",
        "\n"
      ],
      "metadata": {
        "id": "B0iQZtNag_ar"
      }
    },
    {
      "cell_type": "markdown",
      "source": [
        "### Project Goal"
      ],
      "metadata": {
        "id": "PebIMGHvg_fW"
      }
    },
    {
      "cell_type": "markdown",
      "source": [
        "**predict the price of a house by its featues. If you are a buyer or seller of the house but you don't know the exact price of the house, so supervised\n",
        "machine learning regression algorithms can help you to predict the price of the house just providing features of the target house**"
      ],
      "metadata": {
        "id": "SXpOlNZHiUNU"
      }
    },
    {
      "cell_type": "code",
      "source": [
        "import numpy as np\n",
        "import pandas as pd\n",
        "import matplotlib.pyplot as plt\n",
        "import seaborn as sns\n"
      ],
      "metadata": {
        "id": "gFMCS195hWs1"
      },
      "execution_count": null,
      "outputs": []
    },
    {
      "cell_type": "markdown",
      "source": [
        "## Load Dataset\n"
      ],
      "metadata": {
        "id": "Fm7RiuZthqTV"
      }
    },
    {
      "cell_type": "code",
      "source": [
        "df_train = pd.read_csv('/content/train.csv')\n",
        "print(df_train.shape)\n",
        "df_test = pd.read_csv('/content/test.csv')\n",
        "print(df_test.shape)\n"
      ],
      "metadata": {
        "colab": {
          "base_uri": "https://localhost:8080/"
        },
        "id": "u3BQaU5nhjO_",
        "outputId": "e4bc9690-3f19-4046-e16c-b00bd5d25f64"
      },
      "execution_count": 5,
      "outputs": [
        {
          "output_type": "stream",
          "name": "stdout",
          "text": [
            "(1460, 81)\n",
            "(1459, 80)\n"
          ]
        }
      ]
    }
  ]
}